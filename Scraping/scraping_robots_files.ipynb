{
 "cells": [
  {
   "cell_type": "code",
   "execution_count": null,
   "metadata": {},
   "outputs": [
    {
     "name": "stdout",
     "output_type": "stream",
     "text": [
      "# robots.txt file for YouTube\n",
      "# Created in the distant future (the year 2000) after\n",
      "# the robotic uprising of the mid 90's which wiped out all humans.\n",
      "\n",
      "User-agent: Mediapartners-Google*\n",
      "Disallow:\n",
      "\n",
      "User-agent: *\n",
      "Disallow: /api/\n",
      "Disallow: /comment\n",
      "Disallow: /feeds/videos.xml\n",
      "Disallow: /get_video\n",
      "Disallow: /get_video_info\n",
      "Disallow: /get_midroll_info\n",
      "Disallow: /live_chat\n",
      "Disallow: /login\n",
      "Disallow: /qr\n",
      "Disallow: /results\n",
      "Disallow: /signup\n",
      "Disallow: /t/terms\n",
      "Disallow: /timedtext_video\n",
      "Disallow: /verify_age\n",
      "Disallow: /watch_ajax\n",
      "Disallow: /watch_fragments_ajax\n",
      "Disallow: /watch_popup\n",
      "Disallow: /watch_queue_ajax\n",
      "Disallow: /youtubei/\n",
      "\n",
      "Sitemap: https://www.youtube.com/sitemaps/sitemap.xml\n",
      "Sitemap: https://www.youtube.com/product/sitemap.xml\n",
      "\n",
      "\n"
     ]
    }
   ],
   "source": [
    "import requests\n",
    "\n",
    "youtube_url = \"https://www.youtube.com/robots.txt\"\n",
    "response = requests.get(youtube_url)\n",
    "\n",
    "if response.status_code == 200:\n",
    "    print(response.text)  # Displays the robots.txt content\n",
    "else:\n",
    "    print(\"robots.txt file not found\")"
   ]
  },
  {
   "cell_type": "code",
   "execution_count": null,
   "metadata": {},
   "outputs": [],
   "source": []
  }
 ],
 "metadata": {
  "kernelspec": {
   "display_name": "Python 3",
   "language": "python",
   "name": "python3"
  },
  "language_info": {
   "codemirror_mode": {
    "name": "ipython",
    "version": 3
   },
   "file_extension": ".py",
   "mimetype": "text/x-python",
   "name": "python",
   "nbconvert_exporter": "python",
   "pygments_lexer": "ipython3",
   "version": "3.13.1"
  }
 },
 "nbformat": 4,
 "nbformat_minor": 2
}
